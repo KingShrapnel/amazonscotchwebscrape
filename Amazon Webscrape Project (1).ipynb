{
 "cells": [
  {
   "cell_type": "code",
   "execution_count": null,
   "id": "17159705-86e4-4cfc-889f-7893d706dfe4",
   "metadata": {},
   "outputs": [],
   "source": [
    "# Importing required libraries\n",
    "\n",
    "from bs4 import BeautifulSoup\n",
    "import requests \n",
    "import time \n",
    "import datetime\n",
    "import smtplib\n",
    "import pandas as pd"
   ]
  },
  {
   "cell_type": "code",
   "execution_count": null,
   "id": "92a61d88-a6b1-4c59-a0b2-a67b0fc0d142",
   "metadata": {},
   "outputs": [],
   "source": [
    "# Connect to website \n",
    "\n",
    "url = 'https://www.amazon.co.uk/Singleton-Dufftown-Single-Scotch-Whisky/dp/B00439VS3M/ref=sr_1_2_sspa?crid=2NS32I6QWAAIW&dib=eyJ2IjoiMSJ9.OhPY3gbo5b8oOiSUC2WM3_PhWBK29Wz25-V3CMul9-tc7o998H_NxD_cWTUlZX6vG-6oIJUguQDeOVn02UQPJTKGDp9cQ80h0bgIzDCgWUfhoO82KpvIiS1JsLQK-fZUiDRTaZab4XB2CsuTsthqU0-tkMihf8tgoPtuGfitUw6TIIKnBGaxgU-A773HappNcNYtjC4dUT9-tJ5iDIdjsTwwMlBDZfKc-UjWLvso98pONSSqC3lx4oTftLaIZTJA4t5WqxZtU0gUC8NoKaIpWVSWPf46xLqnJS4ozW1EhqA.u0y6mA5dGH-nBAmjio1qdrkmN5KmT_baV16FNro8jQQ&dib_tag=se&keywords=scotch&qid=1738532269&sprefix=scotch%2Caps%2C142&sr=8-2-spons&sp_csd=d2lkZ2V0TmFtZT1zcF9hdGY&th=1'\n",
    "\n",
    "headers = {\"User-Agent\": \"Mozilla/5.0 (Macintosh; Intel Mac OS X 10_15_7) AppleWebKit/537.36 (KHTML, like Gecko) Chrome/130.0.0.0 Safari/537.36 OPR/115.0.0.0\"}\n",
    "\n",
    "page = requests.get(url, headers=headers)\n",
    "\n",
    "soup1 = BeautifulSoup(page.content, \"html.parser\")\n",
    "\n",
    "soup2 = BeautifulSoup(soup1.prettify(), \"html.parser\")\n",
    "\n",
    "title  = soup2.find(id='productTitle').get_text()\n",
    "\n",
    "price_symbol = soup2.find(class_='a-price-symbol').get_text(strip=True)\n",
    "price_whole = soup2.find(class_='a-price-whole').get_text(strip=True)\n",
    "price_fraction = soup2.find(class_='a-price-fraction').get_text(strip=True)\n",
    "price = f'{price_symbol}{price_whole}{price_fraction}'\n",
    "\n",
    "print(title)\n",
    "print(price)"
   ]
  },
  {
   "cell_type": "code",
   "execution_count": null,
   "id": "d111e828-fea5-4ae5-beba-6d7e5c9a5278",
   "metadata": {},
   "outputs": [],
   "source": [
    "# Cleaning scraped data\n",
    "\n",
    "price = price.strip()[1:]\n",
    "title = title.strip()\n",
    "\n",
    "print(title)\n",
    "print(price)\n"
   ]
  },
  {
   "cell_type": "code",
   "execution_count": null,
   "id": "1763d0f0-7a91-4879-b238-1d5062f7afbe",
   "metadata": {},
   "outputs": [],
   "source": [
    "# Time stamp\n",
    "\n",
    "import datetime\n",
    "\n",
    "today = datetime.date.today()\n",
    "\n",
    "print(today)"
   ]
  },
  {
   "cell_type": "code",
   "execution_count": null,
   "id": "db2653b6-c76c-4d8a-93a8-cc9bc9c8e5d4",
   "metadata": {},
   "outputs": [],
   "source": [
    "# Creating csv\n",
    "\n",
    "import csv \n",
    "\n",
    "header = ['Title','Price', 'Date']\n",
    "data = [title, price, today]\n",
    "\n",
    "with open('scotchwebscrape.csv', 'w', newline='', encoding='UTF8') as f:\n",
    "    writer = csv.writer(f)\n",
    "    writer.writerow(header)\n",
    "    writer.writerow(data)\n"
   ]
  },
  {
   "cell_type": "code",
   "execution_count": null,
   "id": "96f87f6b-73ee-449e-916c-4d98775b05f1",
   "metadata": {},
   "outputs": [],
   "source": [
    "df = pd.read_csv('/Users/macbook/scotchwebscrape.csv')\n",
    "print"
   ]
  },
  {
   "cell_type": "code",
   "execution_count": null,
   "id": "e8515640-b8b6-40e8-9203-4c2b3f94cbb3",
   "metadata": {},
   "outputs": [],
   "source": [
    "# Appending data to csv\n",
    "\n",
    "with open('scotchwebscrape.csv', 'a+', newline='', encoding='UTF8') as f:\n",
    "    writer = csv.writer(f)\n",
    "    writer.writerow(data)"
   ]
  },
  {
   "cell_type": "code",
   "execution_count": null,
   "id": "8b8c5d17-fe58-41bd-834a-ebedf7747367",
   "metadata": {},
   "outputs": [],
   "source": [
    "\n",
    "def check_price():\n",
    "    url = 'https://www.amazon.co.uk/Singleton-Dufftown-Single-Scotch-Whisky/dp/B00439VS3M/ref=sr_1_2_sspa?crid=2NS32I6QWAAIW&dib=eyJ2IjoiMSJ9.OhPY3gbo5b8oOiSUC2WM3_PhWBK29Wz25-V3CMul9-tc7o998H_NxD_cWTUlZX6vG-6oIJUguQDeOVn02UQPJTKGDp9cQ80h0bgIzDCgWUfhoO82KpvIiS1JsLQK-fZUiDRTaZab4XB2CsuTsthqU0-tkMihf8tgoPtuGfitUw6TIIKnBGaxgU-A773HappNcNYtjC4dUT9-tJ5iDIdjsTwwMlBDZfKc-UjWLvso98pONSSqC3lx4oTftLaIZTJA4t5WqxZtU0gUC8NoKaIpWVSWPf46xLqnJS4ozW1EhqA.u0y6mA5dGH-nBAmjio1qdrkmN5KmT_baV16FNro8jQQ&dib_tag=se&keywords=scotch&qid=1738532269&sprefix=scotch%2Caps%2C142&sr=8-2-spons&sp_csd=d2lkZ2V0TmFtZT1zcF9hdGY&th=1'\n",
    "\n",
    "    headers = {\"User-Agent\": \"Mozilla/5.0 (Macintosh; Intel Mac OS X 10_15_7) AppleWebKit/537.36 (KHTML, like Gecko) Chrome/130.0.0.0 Safari/537.36 OPR/115.0.0.0\"}\n",
    "\n",
    "    page = requests.get(url, headers=headers)\n",
    "\n",
    "    soup1 = BeautifulSoup(page.content, \"html.parser\")\n",
    "\n",
    "    soup2 = BeautifulSoup(soup1.prettify(), \"html.parser\")\n",
    "\n",
    "    title  = soup2.find(id='productTitle').get_text()\n",
    "\n",
    "    price_symbol = soup2.find(class_='a-price-symbol').get_text(strip=True)\n",
    "    price_whole = soup2.find(class_='a-price-whole').get_text(strip=True)\n",
    "    price_fraction = soup2.find(class_='a-price-fraction').get_text(strip=True)\n",
    "    price = f'{price_symbol}{price_whole}{price_fraction}'\n",
    "\n",
    "    price = price.strip()[1:]\n",
    "    title = title.strip()\n",
    "\n",
    "    import datetime\n",
    "\n",
    "    today = datetime.date.today()\n",
    "\n",
    "    import csv \n",
    "\n",
    "    header = ['Title','Price', 'Date']\n",
    "    data = [title, price, today]\n",
    "\n",
    "    with open('scotchwebscrape.csv', 'a+', newline='', encoding='UTF8') as f:\n",
    "        writer = csv.writer(f)\n",
    "        writer.writerow(data)"
   ]
  },
  {
   "cell_type": "code",
   "execution_count": null,
   "id": "526252da-8507-4a83-85e4-f793c6085473",
   "metadata": {},
   "outputs": [],
   "source": [
    "# Price check every 24 hours\n",
    "\n",
    "while(True):\n",
    "    check_price()\n",
    "    time.sleep(86400)"
   ]
  }
 ],
 "metadata": {
  "kernelspec": {
   "display_name": "Python [conda env:base] *",
   "language": "python",
   "name": "conda-base-py"
  },
  "language_info": {
   "codemirror_mode": {
    "name": "ipython",
    "version": 3
   },
   "file_extension": ".py",
   "mimetype": "text/x-python",
   "name": "python",
   "nbconvert_exporter": "python",
   "pygments_lexer": "ipython3",
   "version": "3.11.5"
  }
 },
 "nbformat": 4,
 "nbformat_minor": 5
}
